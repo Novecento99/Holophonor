{
  "metadata": {
    "kernelspec": {
      "language": "python",
      "display_name": "Python 3",
      "name": "python3"
    },
    "language_info": {
      "pygments_lexer": "ipython3",
      "nbconvert_exporter": "python",
      "version": "3.6.4",
      "file_extension": ".py",
      "codemirror_mode": {
        "name": "ipython",
        "version": 3
      },
      "name": "python",
      "mimetype": "text/x-python"
    },
    "colab": {
      "name": "Music Mood Classification",
      "provenance": []
    }
  },
  "nbformat_minor": 0,
  "nbformat": 4,
  "cells": [
    {
      "source": [
        "# IMPORTANT: RUN THIS CELL IN ORDER TO IMPORT YOUR KAGGLE DATA SOURCES,\n",
        "# THEN FEEL FREE TO DELETE THIS CELL.\n",
        "# NOTE: THIS NOTEBOOK ENVIRONMENT DIFFERS FROM KAGGLE'S PYTHON\n",
        "# ENVIRONMENT SO THERE MAY BE MISSING LIBRARIES USED BY YOUR\n",
        "# NOTEBOOK.\n",
        "import kagglehub\n",
        "auliayasmin_music_mood_classification_path = kagglehub.dataset_download('auliayasmin/music-mood-classification')\n",
        "\n",
        "print('Data source import complete.')\n"
      ],
      "metadata": {
        "id": "exf-0xjRhyc8",
        "outputId": "1863e136-d6bc-409b-db64-7638dff6d87e",
        "colab": {
          "base_uri": "https://localhost:8080/"
        }
      },
      "cell_type": "code",
      "outputs": [
        {
          "output_type": "stream",
          "name": "stdout",
          "text": [
            "Downloading from https://www.kaggle.com/api/v1/datasets/download/auliayasmin/music-mood-classification?dataset_version_number=1...\n"
          ]
        },
        {
          "output_type": "stream",
          "name": "stderr",
          "text": [
            "100%|██████████| 1.95G/1.95G [00:23<00:00, 89.6MB/s]"
          ]
        },
        {
          "output_type": "stream",
          "name": "stdout",
          "text": [
            "Extracting files...\n"
          ]
        },
        {
          "output_type": "stream",
          "name": "stderr",
          "text": [
            "\n"
          ]
        },
        {
          "output_type": "stream",
          "name": "stdout",
          "text": [
            "Data source import complete.\n"
          ]
        }
      ],
      "execution_count": 1
    },
    {
      "cell_type": "code",
      "source": [
        "import os\n",
        "import numpy as np\n",
        "import pandas as pd\n",
        "import matplotlib.pyplot as plt\n",
        "import IPython\n",
        "import librosa\n",
        "import librosa.display"
      ],
      "metadata": {
        "_uuid": "8f2839f25d086af736a60e9eeb907d3b93b6e0e5",
        "_cell_guid": "b1076dfc-b9ad-4769-8c92-a6c4dae69d19",
        "execution": {
          "iopub.status.busy": "2023-07-20T02:54:17.982818Z",
          "iopub.execute_input": "2023-07-20T02:54:17.983183Z",
          "iopub.status.idle": "2023-07-20T02:54:18.02381Z",
          "shell.execute_reply.started": "2023-07-20T02:54:17.983153Z",
          "shell.execute_reply": "2023-07-20T02:54:18.022706Z"
        },
        "trusted": true,
        "id": "VtoDe4kuhyc-"
      },
      "execution_count": 2,
      "outputs": []
    },
    {
      "cell_type": "code",
      "source": [
        "# To clean up the notebook\n",
        "import warnings\n",
        "warnings.filterwarnings(\"ignore\")\n",
        "warnings.simplefilter(\"ignore\")"
      ],
      "metadata": {
        "execution": {
          "iopub.status.busy": "2023-07-20T02:54:18.585298Z",
          "iopub.execute_input": "2023-07-20T02:54:18.585739Z",
          "iopub.status.idle": "2023-07-20T02:54:18.591187Z",
          "shell.execute_reply.started": "2023-07-20T02:54:18.585702Z",
          "shell.execute_reply": "2023-07-20T02:54:18.589702Z"
        },
        "trusted": true,
        "id": "Pzws5hN3hyc_"
      },
      "execution_count": 3,
      "outputs": []
    },
    {
      "cell_type": "code",
      "source": [
        "# Extracting data into dataframe\n",
        "rootPath = \"/kaggle/input/music-mood-classification/dataset\"\n",
        "paths = []\n",
        "moods = []\n",
        "for mood in os.listdir(rootPath):\n",
        "    for file in os.listdir(rootPath + \"/\" + mood):\n",
        "        paths.append(rootPath + \"/\" + mood + \"/\" + file)\n",
        "        moods.append(mood)\n",
        "\n",
        "data = pd.DataFrame(columns=[\"filePath\", \"mood\"])\n",
        "data[\"filePath\"] = paths\n",
        "data[\"mood\"] = moods"
      ],
      "metadata": {
        "execution": {
          "iopub.status.busy": "2023-07-20T02:54:18.993056Z",
          "iopub.execute_input": "2023-07-20T02:54:18.993494Z",
          "iopub.status.idle": "2023-07-20T02:54:19.701786Z",
          "shell.execute_reply.started": "2023-07-20T02:54:18.993456Z",
          "shell.execute_reply": "2023-07-20T02:54:19.70088Z"
        },
        "trusted": true,
        "id": "H6RQI0q9hyc_",
        "outputId": "844fa43c-94cb-48b9-f17b-e94a7987d827",
        "colab": {
          "base_uri": "https://localhost:8080/",
          "height": 211
        }
      },
      "execution_count": 4,
      "outputs": [
        {
          "output_type": "error",
          "ename": "FileNotFoundError",
          "evalue": "[Errno 2] No such file or directory: '/kaggle/input/music-mood-classification/dataset'",
          "traceback": [
            "\u001b[0;31m---------------------------------------------------------------------------\u001b[0m",
            "\u001b[0;31mFileNotFoundError\u001b[0m                         Traceback (most recent call last)",
            "\u001b[0;32m<ipython-input-4-2f256007e1cb>\u001b[0m in \u001b[0;36m<cell line: 0>\u001b[0;34m()\u001b[0m\n\u001b[1;32m      3\u001b[0m \u001b[0mpaths\u001b[0m \u001b[0;34m=\u001b[0m \u001b[0;34m[\u001b[0m\u001b[0;34m]\u001b[0m\u001b[0;34m\u001b[0m\u001b[0;34m\u001b[0m\u001b[0m\n\u001b[1;32m      4\u001b[0m \u001b[0mmoods\u001b[0m \u001b[0;34m=\u001b[0m \u001b[0;34m[\u001b[0m\u001b[0;34m]\u001b[0m\u001b[0;34m\u001b[0m\u001b[0;34m\u001b[0m\u001b[0m\n\u001b[0;32m----> 5\u001b[0;31m \u001b[0;32mfor\u001b[0m \u001b[0mmood\u001b[0m \u001b[0;32min\u001b[0m \u001b[0mos\u001b[0m\u001b[0;34m.\u001b[0m\u001b[0mlistdir\u001b[0m\u001b[0;34m(\u001b[0m\u001b[0mrootPath\u001b[0m\u001b[0;34m)\u001b[0m\u001b[0;34m:\u001b[0m\u001b[0;34m\u001b[0m\u001b[0;34m\u001b[0m\u001b[0m\n\u001b[0m\u001b[1;32m      6\u001b[0m     \u001b[0;32mfor\u001b[0m \u001b[0mfile\u001b[0m \u001b[0;32min\u001b[0m \u001b[0mos\u001b[0m\u001b[0;34m.\u001b[0m\u001b[0mlistdir\u001b[0m\u001b[0;34m(\u001b[0m\u001b[0mrootPath\u001b[0m \u001b[0;34m+\u001b[0m \u001b[0;34m\"/\"\u001b[0m \u001b[0;34m+\u001b[0m \u001b[0mmood\u001b[0m\u001b[0;34m)\u001b[0m\u001b[0;34m:\u001b[0m\u001b[0;34m\u001b[0m\u001b[0;34m\u001b[0m\u001b[0m\n\u001b[1;32m      7\u001b[0m         \u001b[0mpaths\u001b[0m\u001b[0;34m.\u001b[0m\u001b[0mappend\u001b[0m\u001b[0;34m(\u001b[0m\u001b[0mrootPath\u001b[0m \u001b[0;34m+\u001b[0m \u001b[0;34m\"/\"\u001b[0m \u001b[0;34m+\u001b[0m \u001b[0mmood\u001b[0m \u001b[0;34m+\u001b[0m \u001b[0;34m\"/\"\u001b[0m \u001b[0;34m+\u001b[0m \u001b[0mfile\u001b[0m\u001b[0;34m)\u001b[0m\u001b[0;34m\u001b[0m\u001b[0;34m\u001b[0m\u001b[0m\n",
            "\u001b[0;31mFileNotFoundError\u001b[0m: [Errno 2] No such file or directory: '/kaggle/input/music-mood-classification/dataset'"
          ]
        }
      ]
    },
    {
      "cell_type": "code",
      "source": [
        "data.head()"
      ],
      "metadata": {
        "execution": {
          "iopub.status.busy": "2023-07-20T02:54:19.703453Z",
          "iopub.execute_input": "2023-07-20T02:54:19.703853Z",
          "iopub.status.idle": "2023-07-20T02:54:19.719522Z",
          "shell.execute_reply.started": "2023-07-20T02:54:19.703824Z",
          "shell.execute_reply": "2023-07-20T02:54:19.7186Z"
        },
        "trusted": true,
        "id": "e1PfWkcphyc_"
      },
      "execution_count": null,
      "outputs": []
    },
    {
      "cell_type": "markdown",
      "source": [
        "# Exploring Data"
      ],
      "metadata": {
        "id": "io_cMFE-hydA"
      }
    },
    {
      "cell_type": "code",
      "source": [
        "# Checking our input data\n",
        "data[\"mood\"].value_counts()"
      ],
      "metadata": {
        "execution": {
          "iopub.status.busy": "2023-07-20T02:54:19.720767Z",
          "iopub.execute_input": "2023-07-20T02:54:19.721312Z",
          "iopub.status.idle": "2023-07-20T02:54:19.733691Z",
          "shell.execute_reply.started": "2023-07-20T02:54:19.721281Z",
          "shell.execute_reply": "2023-07-20T02:54:19.732818Z"
        },
        "trusted": true,
        "id": "LM8iTcnxhydB"
      },
      "execution_count": null,
      "outputs": []
    },
    {
      "cell_type": "code",
      "source": [
        "samples = []\n",
        "sr = 22050\n",
        "for mood in os.listdir(rootPath):\n",
        "    sample = { \"mood\" : mood }\n",
        "    moodData = data[data.mood == mood]\n",
        "\n",
        "    print(mood + \":\")\n",
        "    IPython.display.display(IPython.display.Audio(moodData.iloc[20, 0]))\n",
        "    signal, _ = librosa.load(moodData.iloc[30, 0], sr=sr)\n",
        "    sample[\"signal\"] = signal\n",
        "    samples.append(sample)"
      ],
      "metadata": {
        "execution": {
          "iopub.status.busy": "2023-07-20T02:56:25.607995Z",
          "iopub.execute_input": "2023-07-20T02:56:25.608407Z",
          "iopub.status.idle": "2023-07-20T02:56:25.880241Z",
          "shell.execute_reply.started": "2023-07-20T02:56:25.608361Z",
          "shell.execute_reply": "2023-07-20T02:56:25.87906Z"
        },
        "trusted": true,
        "id": "bBePNOt8hydB"
      },
      "execution_count": null,
      "outputs": []
    },
    {
      "cell_type": "markdown",
      "source": [
        "## Plotting Amplitude Time Graphs"
      ],
      "metadata": {
        "id": "iLXY9ugIhydC"
      }
    },
    {
      "cell_type": "code",
      "source": [
        "fig = plt.figure(figsize=(20,10))\n",
        "for i, sample in enumerate(samples):\n",
        "    plt.subplot(2, 3, i + 1)\n",
        "    librosa.display.waveshow(sample[\"signal\"], sr=sr, alpha=0.4)\n",
        "    plt.xlabel(\"Time\")\n",
        "    plt.ylabel(\"Amplitude\")\n",
        "    plt.title(sample[\"mood\"])\n",
        "\n",
        "plt.show()"
      ],
      "metadata": {
        "execution": {
          "iopub.status.busy": "2023-07-20T02:56:31.207446Z",
          "iopub.execute_input": "2023-07-20T02:56:31.207858Z",
          "iopub.status.idle": "2023-07-20T02:56:37.197928Z",
          "shell.execute_reply.started": "2023-07-20T02:56:31.207826Z",
          "shell.execute_reply": "2023-07-20T02:56:37.196612Z"
        },
        "trusted": true,
        "id": "v26cGzxmhydC"
      },
      "execution_count": null,
      "outputs": []
    },
    {
      "cell_type": "markdown",
      "source": [
        "## Plotting Mel Spectograms"
      ],
      "metadata": {
        "id": "N3dyESINhydC"
      }
    },
    {
      "cell_type": "code",
      "source": [
        "fig = plt.figure(figsize=(10,8))\n",
        "\n",
        "for i, sample in enumerate(samples):\n",
        "    sample[\"frequencies\"] = librosa.stft(sample[\"signal\"])\n",
        "    sample[\"frequencies_db\"] = librosa.amplitude_to_db(np.abs(sample[\"frequencies\"]), ref=np.max)\n",
        "    plt.figure(figsize=(20, 10))\n",
        "    librosa.display.specshow(sample[\"frequencies_db\"])\n",
        "    plt.xlabel(\"Time\")\n",
        "    plt.ylabel(\"Amplitude (db)\")\n",
        "    plt.title(sample[\"mood\"])\n",
        "    plt.colorbar()\n",
        "\n",
        "plt.show()"
      ],
      "metadata": {
        "execution": {
          "iopub.status.busy": "2023-07-20T02:56:51.114144Z",
          "iopub.execute_input": "2023-07-20T02:56:51.11457Z",
          "iopub.status.idle": "2023-07-20T02:56:54.226533Z",
          "shell.execute_reply.started": "2023-07-20T02:56:51.114534Z",
          "shell.execute_reply": "2023-07-20T02:56:54.225621Z"
        },
        "trusted": true,
        "id": "vd_KuOdFhydC"
      },
      "execution_count": null,
      "outputs": []
    },
    {
      "cell_type": "markdown",
      "source": [
        "## Chromagrams"
      ],
      "metadata": {
        "id": "znmsbd7zhydC"
      }
    },
    {
      "cell_type": "code",
      "source": [
        "fig = plt.figure(figsize=(10,8))\n",
        "\n",
        "for i, sample in enumerate(samples):\n",
        "    sample[\"chroma\"] = librosa.feature.chroma_stft(y=sample[\"signal\"], sr=sr)\n",
        "    plt.figure(figsize=(20, 10))\n",
        "    librosa.display.specshow(sample[\"chroma\"], y_axis='chroma', x_axis='time')\n",
        "    plt.title(sample[\"mood\"])\n",
        "    plt.colorbar()\n",
        "\n",
        "plt.show()"
      ],
      "metadata": {
        "execution": {
          "iopub.status.busy": "2023-07-20T02:57:00.087306Z",
          "iopub.execute_input": "2023-07-20T02:57:00.087716Z",
          "iopub.status.idle": "2023-07-20T02:57:04.003787Z",
          "shell.execute_reply.started": "2023-07-20T02:57:00.087683Z",
          "shell.execute_reply": "2023-07-20T02:57:04.002476Z"
        },
        "trusted": true,
        "id": "BNfUs07ChydC"
      },
      "execution_count": null,
      "outputs": []
    },
    {
      "cell_type": "markdown",
      "source": [
        "## Visuaizing MFCCs"
      ],
      "metadata": {
        "id": "6B6OcGjQhydD"
      }
    },
    {
      "cell_type": "code",
      "source": [
        "fig = plt.figure(figsize=(10,8))\n",
        "\n",
        "for i, sample in enumerate(samples):\n",
        "    sample[\"mfccs\"] = librosa.feature.mfcc(y=sample[\"signal\"], sr=sr, n_mfcc=40)\n",
        "    plt.figure(figsize=(20, 10))\n",
        "    librosa.display.specshow(sample[\"mfccs\"], x_axis='time')\n",
        "    plt.title(sample[\"mood\"])\n",
        "    plt.colorbar()\n",
        "\n",
        "plt.show()"
      ],
      "metadata": {
        "execution": {
          "iopub.status.busy": "2023-07-20T03:03:34.833076Z",
          "iopub.execute_input": "2023-07-20T03:03:34.833798Z",
          "iopub.status.idle": "2023-07-20T03:03:36.652263Z",
          "shell.execute_reply.started": "2023-07-20T03:03:34.833733Z",
          "shell.execute_reply": "2023-07-20T03:03:36.650886Z"
        },
        "trusted": true,
        "id": "jJCJoLKdhydD"
      },
      "execution_count": null,
      "outputs": []
    },
    {
      "cell_type": "markdown",
      "source": [
        "## Feature Extraction\n",
        "\n",
        "The model will be trained with the tempo and the average values of the mel spectrogram, chroma_stft, and mfccs."
      ],
      "metadata": {
        "id": "H9l6qqcahydD"
      }
    },
    {
      "cell_type": "code",
      "source": [
        "def getFeatures(filePath):\n",
        "    signal, sr = librosa.load(filePath)\n",
        "\n",
        "    tempo = librosa.beat.tempo(y=signal)\n",
        "    output = np.array(tempo)\n",
        "\n",
        "    stft = np.mean(librosa.feature.melspectrogram(y=signal).T, axis=0)\n",
        "    output = np.hstack((output, stft))\n",
        "\n",
        "    chroma = np.mean(librosa.feature.chroma_stft(y=signal).T, axis=0)\n",
        "    output = np.hstack((output, chroma))\n",
        "\n",
        "    mfccs = np.mean(librosa.feature.mfcc(y=signal).T, axis=0)\n",
        "    output = np.hstack((output, mfccs))\n",
        "\n",
        "    return output\n",
        "\n",
        "print(getFeatures(data.iloc[0, 0]))"
      ],
      "metadata": {
        "execution": {
          "iopub.status.busy": "2023-07-20T03:55:20.542763Z",
          "iopub.execute_input": "2023-07-20T03:55:20.543146Z",
          "iopub.status.idle": "2023-07-20T03:55:20.711993Z",
          "shell.execute_reply.started": "2023-07-20T03:55:20.543116Z",
          "shell.execute_reply": "2023-07-20T03:55:20.710643Z"
        },
        "trusted": true,
        "id": "xVTI75GKhydD"
      },
      "execution_count": null,
      "outputs": []
    },
    {
      "cell_type": "code",
      "source": [
        "print(\"Extracting Features...\")\n",
        "X, y = [], []\n",
        "\n",
        "for i, row in data.iterrows():\n",
        "    label = row[\"mood\"]\n",
        "    features = getFeatures(row[\"filePath\"])\n",
        "    X.append(features)\n",
        "    y.append(label)\n",
        "    if i % 100 == 0:\n",
        "        print(\"#\", end=\"\")\n",
        "print(\"\\ndone\")"
      ],
      "metadata": {
        "execution": {
          "iopub.status.busy": "2023-07-20T04:06:14.383152Z",
          "iopub.execute_input": "2023-07-20T04:06:14.38358Z",
          "iopub.status.idle": "2023-07-20T04:13:48.813882Z",
          "shell.execute_reply.started": "2023-07-20T04:06:14.383548Z",
          "shell.execute_reply": "2023-07-20T04:13:48.812638Z"
        },
        "trusted": true,
        "id": "uX1wy_JAhydD"
      },
      "execution_count": null,
      "outputs": []
    },
    {
      "cell_type": "code",
      "source": [
        "X = np.array(X)\n",
        "y = np.array(y)"
      ],
      "metadata": {
        "execution": {
          "iopub.status.busy": "2023-07-20T04:15:21.429779Z",
          "iopub.execute_input": "2023-07-20T04:15:21.430178Z",
          "iopub.status.idle": "2023-07-20T04:15:21.442337Z",
          "shell.execute_reply.started": "2023-07-20T04:15:21.430147Z",
          "shell.execute_reply": "2023-07-20T04:15:21.439989Z"
        },
        "trusted": true,
        "id": "n05Nzj3VhydE"
      },
      "execution_count": null,
      "outputs": []
    },
    {
      "cell_type": "code",
      "source": [
        "X"
      ],
      "metadata": {
        "execution": {
          "iopub.status.busy": "2023-07-20T04:15:23.249784Z",
          "iopub.execute_input": "2023-07-20T04:15:23.25079Z",
          "iopub.status.idle": "2023-07-20T04:15:23.258819Z",
          "shell.execute_reply.started": "2023-07-20T04:15:23.250743Z",
          "shell.execute_reply": "2023-07-20T04:15:23.257442Z"
        },
        "trusted": true,
        "id": "lOfcWMqWhydE"
      },
      "execution_count": null,
      "outputs": []
    },
    {
      "cell_type": "code",
      "source": [
        "y"
      ],
      "metadata": {
        "execution": {
          "iopub.status.busy": "2023-07-20T04:15:26.655221Z",
          "iopub.execute_input": "2023-07-20T04:15:26.655648Z",
          "iopub.status.idle": "2023-07-20T04:15:26.663304Z",
          "shell.execute_reply.started": "2023-07-20T04:15:26.655617Z",
          "shell.execute_reply": "2023-07-20T04:15:26.661951Z"
        },
        "trusted": true,
        "id": "yyfwouI7hydE"
      },
      "execution_count": null,
      "outputs": []
    },
    {
      "cell_type": "markdown",
      "source": [
        "# Splitting Data into Test and Train Set"
      ],
      "metadata": {
        "id": "KojEnrpJhydE"
      }
    },
    {
      "cell_type": "code",
      "source": [
        "from sklearn.model_selection import train_test_split\n",
        "X_train, X_test, y_train, y_test = train_test_split(X, y, random_state=42, test_size=0.2, stratify=y)\n",
        "print(X_train.shape)\n",
        "print(X_test.shape)\n",
        "print(y_train.shape)\n",
        "print(y_test.shape)"
      ],
      "metadata": {
        "execution": {
          "iopub.status.busy": "2023-07-20T04:25:47.389784Z",
          "iopub.execute_input": "2023-07-20T04:25:47.390503Z",
          "iopub.status.idle": "2023-07-20T04:25:47.403176Z",
          "shell.execute_reply.started": "2023-07-20T04:25:47.390466Z",
          "shell.execute_reply": "2023-07-20T04:25:47.401843Z"
        },
        "trusted": true,
        "id": "DbXitiBvhydE"
      },
      "execution_count": null,
      "outputs": []
    },
    {
      "cell_type": "code",
      "source": [
        "# encoding string labels (\"happy\", \"sad\", ...) to OneHotEncoding\n",
        "from sklearn.preprocessing import OneHotEncoder\n",
        "ohe = OneHotEncoder()\n",
        "y_train_ohe = ohe.fit_transform(y_train.reshape(-1, 1)).toarray()\n",
        "y_test_ohe = ohe.fit_transform(y_test.reshape(-1, 1)).toarray()"
      ],
      "metadata": {
        "execution": {
          "iopub.status.busy": "2023-07-20T04:25:48.103246Z",
          "iopub.execute_input": "2023-07-20T04:25:48.103646Z",
          "iopub.status.idle": "2023-07-20T04:25:48.115006Z",
          "shell.execute_reply.started": "2023-07-20T04:25:48.103615Z",
          "shell.execute_reply": "2023-07-20T04:25:48.113744Z"
        },
        "trusted": true,
        "id": "KV0SFBymhydE"
      },
      "execution_count": null,
      "outputs": []
    },
    {
      "cell_type": "code",
      "source": [
        "from sklearn.preprocessing import OrdinalEncoder\n",
        "oe = OrdinalEncoder()\n",
        "y_train_oe = oe.fit_transform(y_train.reshape(-1, 1))\n",
        "y_test_oe = oe.fit_transform(y_test.reshape(-1, 1))"
      ],
      "metadata": {
        "execution": {
          "iopub.status.busy": "2023-07-20T04:26:07.231856Z",
          "iopub.execute_input": "2023-07-20T04:26:07.232267Z",
          "iopub.status.idle": "2023-07-20T04:26:07.241739Z",
          "shell.execute_reply.started": "2023-07-20T04:26:07.232233Z",
          "shell.execute_reply": "2023-07-20T04:26:07.240496Z"
        },
        "trusted": true,
        "id": "nPGQbzjGhydE"
      },
      "execution_count": null,
      "outputs": []
    },
    {
      "cell_type": "code",
      "source": [
        "y_train_oe"
      ],
      "metadata": {
        "execution": {
          "iopub.status.busy": "2023-07-20T04:26:08.588479Z",
          "iopub.execute_input": "2023-07-20T04:26:08.589126Z",
          "iopub.status.idle": "2023-07-20T04:26:08.596974Z",
          "shell.execute_reply.started": "2023-07-20T04:26:08.589091Z",
          "shell.execute_reply": "2023-07-20T04:26:08.595683Z"
        },
        "trusted": true,
        "id": "8pzd8aX2hydE"
      },
      "execution_count": null,
      "outputs": []
    },
    {
      "cell_type": "code",
      "source": [
        "y_train_ohe"
      ],
      "metadata": {
        "execution": {
          "iopub.status.busy": "2023-07-20T04:26:22.053666Z",
          "iopub.execute_input": "2023-07-20T04:26:22.054068Z",
          "iopub.status.idle": "2023-07-20T04:26:22.062644Z",
          "shell.execute_reply.started": "2023-07-20T04:26:22.054034Z",
          "shell.execute_reply": "2023-07-20T04:26:22.0613Z"
        },
        "trusted": true,
        "id": "HuwzPTPqhydF"
      },
      "execution_count": null,
      "outputs": []
    },
    {
      "cell_type": "markdown",
      "source": [
        "# Defining Evaluation Method for Models"
      ],
      "metadata": {
        "id": "T1a0FHdyhydF"
      }
    },
    {
      "cell_type": "code",
      "source": [
        "from sklearn.metrics import ConfusionMatrixDisplay\n",
        "import sklearn.metrics as skm\n",
        "\n",
        "def modelResults(y_train, y_pred):\n",
        "    ConfusionMatrixDisplay.from_predictions(y_train, y_pred)\n",
        "    ConfusionMatrixDisplay.from_predictions(y_train, y_pred, normalize=\"true\", values_format=\".0%\")\n",
        "    print(skm.classification_report(y_train, y_pred, digits=3))\n",
        "    print(skm.precision_recall_fscore_support(y_train, y_pred, average=\"macro\"))"
      ],
      "metadata": {
        "execution": {
          "iopub.status.busy": "2023-07-20T04:19:57.889681Z",
          "iopub.execute_input": "2023-07-20T04:19:57.890048Z",
          "iopub.status.idle": "2023-07-20T04:19:57.896364Z",
          "shell.execute_reply.started": "2023-07-20T04:19:57.890019Z",
          "shell.execute_reply": "2023-07-20T04:19:57.894913Z"
        },
        "trusted": true,
        "id": "1LH9Z4BthydF"
      },
      "execution_count": null,
      "outputs": []
    },
    {
      "cell_type": "markdown",
      "source": [
        "# Trying Logistic Regression"
      ],
      "metadata": {
        "id": "CXkkTLF-hydF"
      }
    },
    {
      "cell_type": "code",
      "source": [
        "from sklearn.preprocessing import StandardScaler\n",
        "from sklearn.linear_model import LogisticRegression\n",
        "from sklearn.pipeline import make_pipeline\n",
        "from sklearn.model_selection import cross_val_predict\n",
        "\n",
        "\n",
        "scaler = StandardScaler()\n",
        "lr = LogisticRegression(max_iter=400)\n",
        "lr_pipeline = make_pipeline(scaler, lr)\n",
        "\n",
        "y_train_pred = cross_val_predict(lr_pipeline, X_train, y_train_oe, cv=3)\n",
        "\n",
        "y_train_pred"
      ],
      "metadata": {
        "execution": {
          "iopub.status.busy": "2023-07-20T04:27:15.251314Z",
          "iopub.execute_input": "2023-07-20T04:27:15.251733Z",
          "iopub.status.idle": "2023-07-20T04:27:16.088715Z",
          "shell.execute_reply.started": "2023-07-20T04:27:15.251699Z",
          "shell.execute_reply": "2023-07-20T04:27:16.087367Z"
        },
        "trusted": true,
        "id": "ZQjwGZZChydF"
      },
      "execution_count": null,
      "outputs": []
    },
    {
      "cell_type": "code",
      "source": [
        "modelResults(y_train_oe, y_train_pred)"
      ],
      "metadata": {
        "execution": {
          "iopub.status.busy": "2023-07-20T04:27:35.208406Z",
          "iopub.execute_input": "2023-07-20T04:27:35.208779Z",
          "iopub.status.idle": "2023-07-20T04:27:35.911593Z",
          "shell.execute_reply.started": "2023-07-20T04:27:35.208744Z",
          "shell.execute_reply": "2023-07-20T04:27:35.910409Z"
        },
        "trusted": true,
        "id": "cjTW6erihydF"
      },
      "execution_count": null,
      "outputs": []
    },
    {
      "cell_type": "code",
      "source": [
        "from sklearn.ensemble import RandomForestClassifier\n",
        "\n",
        "randomForestClassifier = RandomForestClassifier()\n",
        "randomForestClassifier.fit(X_train, y_train_oe)\n",
        "y_train_pred = cross_val_predict(randomForestClassifier, X_train, y_train_oe, cv=3)\n",
        "\n",
        "y_train_pred\n",
        "\n",
        "modelResults(y_train_oe, y_train_pred)"
      ],
      "metadata": {
        "execution": {
          "iopub.status.busy": "2023-07-20T04:34:26.563485Z",
          "iopub.execute_input": "2023-07-20T04:34:26.563889Z",
          "iopub.status.idle": "2023-07-20T04:34:32.8609Z",
          "shell.execute_reply.started": "2023-07-20T04:34:26.563854Z",
          "shell.execute_reply": "2023-07-20T04:34:32.859731Z"
        },
        "trusted": true,
        "id": "qzfs8MmHhydF"
      },
      "execution_count": null,
      "outputs": []
    },
    {
      "cell_type": "markdown",
      "source": [
        "# Final Evaluation Using Random Forest"
      ],
      "metadata": {
        "id": "AGGg1txDhydF"
      }
    },
    {
      "cell_type": "code",
      "source": [
        "model = randomForestClassifier\n",
        "y_test_pred = model.predict(X_test)\n",
        "modelResults(y_test_oe, y_test_pred)"
      ],
      "metadata": {
        "execution": {
          "iopub.status.busy": "2023-07-20T04:36:54.355417Z",
          "iopub.execute_input": "2023-07-20T04:36:54.356085Z",
          "iopub.status.idle": "2023-07-20T04:36:55.099466Z",
          "shell.execute_reply.started": "2023-07-20T04:36:54.356039Z",
          "shell.execute_reply": "2023-07-20T04:36:55.098493Z"
        },
        "trusted": true,
        "id": "y8L9yDiXhydG"
      },
      "execution_count": null,
      "outputs": []
    },
    {
      "cell_type": "markdown",
      "source": [
        "# Testing on my favorite songs\n",
        "Say you won't let go - James Arthur\n",
        "\n",
        "Personally, I would classify this song as Romantic, but if it ends up being sad then I'll take it"
      ],
      "metadata": {
        "id": "mTVq_kAihydG"
      }
    },
    {
      "cell_type": "code",
      "source": [
        "say_you_wont_let_go_path = \"/kaggle/input/personal-favorite-songs/Say You Wont Let Go.mp3\"\n",
        "IPython.display.display(IPython.display.Audio(say_you_wont_let_go_path))"
      ],
      "metadata": {
        "execution": {
          "iopub.status.busy": "2023-07-20T04:59:11.560362Z",
          "iopub.execute_input": "2023-07-20T04:59:11.561587Z",
          "iopub.status.idle": "2023-07-20T04:59:11.639308Z",
          "shell.execute_reply.started": "2023-07-20T04:59:11.561534Z",
          "shell.execute_reply": "2023-07-20T04:59:11.637575Z"
        },
        "trusted": true,
        "id": "NY_eRc8ThydG"
      },
      "execution_count": null,
      "outputs": []
    },
    {
      "cell_type": "code",
      "source": [
        "def get5sFeatures(filePath):\n",
        "    signal, sr = librosa.load(filePath)\n",
        "\n",
        "    tempo = librosa.beat.tempo(y=signal)\n",
        "    output = np.array(tempo)\n",
        "\n",
        "    signal = signal[sr*20:sr * 25]\n",
        "    print(signal.shape)\n",
        "\n",
        "    stft = np.mean(librosa.feature.melspectrogram(y=signal).T, axis=0)\n",
        "    output = np.hstack((output, stft))\n",
        "\n",
        "    chroma = np.mean(librosa.feature.chroma_stft(y=signal).T, axis=0)\n",
        "    output = np.hstack((output, chroma))\n",
        "\n",
        "    mfccs = np.mean(librosa.feature.mfcc(y=signal).T, axis=0)\n",
        "    output = np.hstack((output, mfccs))\n",
        "\n",
        "    return output\n",
        "\n",
        "x = get5sFeatures(say_you_wont_let_go_path)"
      ],
      "metadata": {
        "execution": {
          "iopub.status.busy": "2023-07-20T05:01:58.420704Z",
          "iopub.execute_input": "2023-07-20T05:01:58.421643Z",
          "iopub.status.idle": "2023-07-20T05:02:00.766752Z",
          "shell.execute_reply.started": "2023-07-20T05:01:58.421606Z",
          "shell.execute_reply": "2023-07-20T05:02:00.765566Z"
        },
        "trusted": true,
        "id": "ErZvor4-hydG"
      },
      "execution_count": null,
      "outputs": []
    },
    {
      "cell_type": "code",
      "source": [
        "pred = model.predict(x.reshape(1, -1))"
      ],
      "metadata": {
        "execution": {
          "iopub.status.busy": "2023-07-20T05:02:00.768769Z",
          "iopub.execute_input": "2023-07-20T05:02:00.769467Z",
          "iopub.status.idle": "2023-07-20T05:02:00.793735Z",
          "shell.execute_reply.started": "2023-07-20T05:02:00.769417Z",
          "shell.execute_reply": "2023-07-20T05:02:00.79255Z"
        },
        "trusted": true,
        "id": "DdQ5WTGKhydL"
      },
      "execution_count": null,
      "outputs": []
    },
    {
      "cell_type": "code",
      "source": [
        "pred_transform = oe.inverse_transform(pred.reshape(1, -1))\n",
        "pred_transform"
      ],
      "metadata": {
        "execution": {
          "iopub.status.busy": "2023-07-20T05:02:01.695789Z",
          "iopub.execute_input": "2023-07-20T05:02:01.696232Z",
          "iopub.status.idle": "2023-07-20T05:02:01.703593Z",
          "shell.execute_reply.started": "2023-07-20T05:02:01.696194Z",
          "shell.execute_reply": "2023-07-20T05:02:01.702635Z"
        },
        "trusted": true,
        "id": "mzXs_WEJhydL"
      },
      "execution_count": null,
      "outputs": []
    }
  ]
}